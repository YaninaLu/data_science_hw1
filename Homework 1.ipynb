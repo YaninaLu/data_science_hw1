{
 "cells": [
  {
   "cell_type": "markdown",
   "id": "e23b016a",
   "metadata": {},
   "source": [
    "1. Вкладник поклав 50000 умовних одиниць на три різні рахунки в три різні банки. За першим рахунком виплати становитимуть 5% річних, по другому – 7% річних та по третьому 6% річних. Відомо, що через рік вкладник отримав за відсотками суму в 2250 у.о. з першого та другого банку та суму в 1400 у.о. з першого та третього банку. Скільки умовних одиниць він поклав на кожен рахунок спочатку?"
   ]
  },
  {
   "cell_type": "code",
   "execution_count": 5,
   "id": "9bf14628",
   "metadata": {},
   "outputs": [
    {
     "name": "stdout",
     "output_type": "stream",
     "text": [
      "[[10000.]\n",
      " [25000.]\n",
      " [15000.]]\n"
     ]
    }
   ],
   "source": [
    "import numpy as np\n",
    "\n",
    "\n",
    "matrix_A = np.array([[1, 1, 1],\n",
    "                     [0.05, 0.07, 0],\n",
    "                     [0.05, 0, 0.06]])\n",
    "matrix_B = np.array([[50000],\n",
    "                     [2250],\n",
    "                     [1400]])\n",
    "\n",
    "A_inverse = np.linalg.inv(matrix_A)\n",
    "results = A_inverse.dot(matrix_B)\n",
    "print(results)"
   ]
  },
  {
   "cell_type": "markdown",
   "id": "a6d9e685",
   "metadata": {},
   "source": [
    "2. На складі зберігаються мобільні телефони iPhone 6, iPhone 11, iPhone 12 моделей. Всього 1328 екземплярів. Моделей iPhone 6 на 120 менше, ніж моделей iPhone 11, та на 100 більше, ніж моделей iPhone 12. Скільки моделей кожного виду на складі?"
   ]
  },
  {
   "cell_type": "code",
   "execution_count": 6,
   "id": "39f316f5",
   "metadata": {},
   "outputs": [
    {
     "name": "stdout",
     "output_type": "stream",
     "text": [
      "[[436.]\n",
      " [556.]\n",
      " [336.]]\n"
     ]
    }
   ],
   "source": [
    "matrix_A = np.array([[1, 1, 1],\n",
    "                     [-1, 1, 0],\n",
    "                     [1, 0, -1]])\n",
    "matrix_B = np.array([[1328],\n",
    "                     [120],\n",
    "                     [100]])\n",
    "results = np.linalg.solve(matrix_A, matrix_B)\n",
    "print(results)"
   ]
  },
  {
   "cell_type": "markdown",
   "id": "5f2fd9d4",
   "metadata": {},
   "source": [
    "3. Складіть канонічне рівняння еліпсоїда, що проходить через три точки A, B, C."
   ]
  },
  {
   "cell_type": "code",
   "execution_count": 15,
   "id": "db3dc13c",
   "metadata": {},
   "outputs": [
    {
     "name": "stdout",
     "output_type": "stream",
     "text": [
      "[12.]\n",
      "[0.5]\n",
      "[4.]\n"
     ]
    }
   ],
   "source": [
    "coordinates = np.array([[3, 0, 3],\n",
    "                        [6, 1/4, 0],\n",
    "                        [1, 1/3, 1]])\n",
    "ones = np.ones((3,1))\n",
    "res = np.linalg.solve(coordinates, ones)\n",
    "a_squared = 1/res[0]\n",
    "b_squared = 1/res[1]\n",
    "c_squared = 1/res[2]\n",
    "print(a_squared)\n",
    "print(b_squared)\n",
    "print(c_squared)"
   ]
  },
  {
   "cell_type": "markdown",
   "id": "d93e3dcf",
   "metadata": {},
   "source": [
    "4. Складіть рівняння параболи що проходить через задані три точки (1,12), (3,54), (-1,2). Необхідно знайти коефіцієнти рівняння a,b,c."
   ]
  },
  {
   "cell_type": "code",
   "execution_count": 18,
   "id": "5bfe2f6b",
   "metadata": {},
   "outputs": [
    {
     "name": "stdout",
     "output_type": "stream",
     "text": [
      "[4.]\n",
      "[5.]\n",
      "[3.]\n"
     ]
    }
   ],
   "source": [
    "x_coords = np.array([[1, 1, 1],\n",
    "                   [9, 3, 1],\n",
    "                   [1, -1, 1]])\n",
    "y_coords = np.array([[12],\n",
    "                     [54],\n",
    "                     [2]])\n",
    "params = np.linalg.solve(x_coords, y_coords)\n",
    "a = params[0]\n",
    "b = params[1]\n",
    "c = params[2]\n",
    "print(a)\n",
    "print(b)\n",
    "print(c)"
   ]
  },
  {
   "cell_type": "markdown",
   "id": "dc9d9a0a",
   "metadata": {},
   "source": [
    "5. Складіть функцію get_polynom, яка за набором точок буде знаходити коефіцієнти багаточлена. Таким чином функція приймає список кортежів з координатами та повертає набір коефіцієнтів."
   ]
  },
  {
   "cell_type": "code",
   "execution_count": 61,
   "id": "51345050",
   "metadata": {},
   "outputs": [
    {
     "name": "stdout",
     "output_type": "stream",
     "text": [
      "[ 0.          0.20416667  0.096875   -0.00572917]\n"
     ]
    }
   ],
   "source": [
    "def get_polynom(coords):\n",
    "    x = np.array([pair[0] for pair in coords])\n",
    "    y = np.array([pair[1] for pair in coords])\n",
    "    vander_matrix = np.vander(x, increasing=True)\n",
    "    results = np.linalg.solve(vander_matrix, y)\n",
    "    return results\n",
    "    \n",
    "\n",
    "coords = [(0, 0),\n",
    "          (4, 2),\n",
    "          (10, 6),\n",
    "          (12, 6.5)]\n",
    "coefficients = get_polynom(coords)\n",
    "print(coefficients)"
   ]
  },
  {
   "cell_type": "code",
   "execution_count": null,
   "id": "f626ff1b",
   "metadata": {},
   "outputs": [],
   "source": []
  }
 ],
 "metadata": {
  "kernelspec": {
   "display_name": "Python 3 (ipykernel)",
   "language": "python",
   "name": "python3"
  },
  "language_info": {
   "codemirror_mode": {
    "name": "ipython",
    "version": 3
   },
   "file_extension": ".py",
   "mimetype": "text/x-python",
   "name": "python",
   "nbconvert_exporter": "python",
   "pygments_lexer": "ipython3",
   "version": "3.9.7"
  }
 },
 "nbformat": 4,
 "nbformat_minor": 5
}
